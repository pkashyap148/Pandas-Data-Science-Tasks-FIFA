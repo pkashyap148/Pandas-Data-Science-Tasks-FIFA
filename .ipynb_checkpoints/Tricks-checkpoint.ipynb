{
 "cells": [
  {
   "cell_type": "code",
   "execution_count": null,
   "metadata": {},
   "outputs": [],
   "source": [
    "# Tricks to remember\n",
    "y['Release Clause'] = y['Release Clause'].astype(str) # Convert Release Clauses to String\n",
    "y.head()\n",
    "\n",
    "y['Money'] = y['Release Clause'].str[1:-1] # Fetch Only Numbers from release clause\n",
    "y.head()"
   ]
  }
 ],
 "metadata": {
  "kernelspec": {
   "display_name": "Python 3",
   "language": "python",
   "name": "python3"
  },
  "language_info": {
   "codemirror_mode": {
    "name": "ipython",
    "version": 3
   },
   "file_extension": ".py",
   "mimetype": "text/x-python",
   "name": "python",
   "nbconvert_exporter": "python",
   "pygments_lexer": "ipython3",
   "version": "3.8.1"
  }
 },
 "nbformat": 4,
 "nbformat_minor": 4
}
